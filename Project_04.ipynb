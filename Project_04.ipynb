{
 "cells": [
  {
   "metadata": {},
   "cell_type": "markdown",
   "source": [
    "# This is a sample Jupyter Notebook\n",
    "\n",
    "Below is an example of a code cell. \n",
    "Put your cursor into the cell and press Shift+Enter to execute it and select the next one, or click 'Run Cell' button.\n",
    "\n",
    "Press Double Shift to search everywhere for classes, files, tool windows, actions, and settings.\n",
    "\n",
    "To learn more about Jupyter Notebooks in PyCharm, see [help](https://www.jetbrains.com/help/pycharm/ipython-notebook-support.html).\n",
    "For an overview of PyCharm, go to Help -> Learn IDE features or refer to [our documentation](https://www.jetbrains.com/help/pycharm/getting-started.html)."
   ],
   "id": "8a77807f92f26ee"
  },
  {
   "metadata": {
    "ExecuteTime": {
     "end_time": "2024-11-06T22:36:04.558626Z",
     "start_time": "2024-11-06T22:36:04.553858Z"
    }
   },
   "cell_type": "code",
   "source": [
    "class Car:\n",
    "    #initialize our object\n",
    "    def __init__(self, year_model, make):\n",
    "        self.year_model = year_model\n",
    "        self.make = make\n",
    "        self.speed = 0\n",
    "    # creating the accelerate func that increases the variable speed value by 5    \n",
    "    def accelerate(self):\n",
    "        self.speed += 5\n",
    "    \n",
    "    def brake(self):\n",
    "        # checking if speed is above or equal 5 or that speed doesn't go negative\n",
    "        if self.speed >= 5:\n",
    "            self.speed -= 5\n",
    "        else:\n",
    "            # else if speed is below 5. Make it 0 so it doesn't go negative speed\n",
    "            self.speed = 0\n",
    "    \n",
    "    def get_speed(self):\n",
    "        return self.speed\n",
    "\n",
    "\n",
    "\n",
    "def driving():\n",
    "    my_car = Car(2016, 'Subaru')\n",
    "    #creates the output file\n",
    "    with open(\"Output_05.txt\", \"w\") as file:\n",
    "        file.write(\"Car is accelerating:\\n\")\n",
    "        #a loop of 5, calling the accelerate func on my_car to get the speed each time\n",
    "        for _ in range(5):\n",
    "            my_car.accelerate()\n",
    "            file.write(f\"Current speed: {my_car.get_speed()}\\n\")\n",
    "        \n",
    "        file.write(\"\\nCar is braking:\\n\")\n",
    "        #same loop as above but for braking, so the speed is subtracted\n",
    "        for _ in range(5):\n",
    "            my_car.brake()\n",
    "            file.write(f\"Current speed: {my_car.get_speed()}\\n\")\n",
    "        \n",
    "        file.write(\"\\nBye!\\n\")\n",
    "        \n",
    "        file.close()\n",
    "driving()"
   ],
   "id": "fbc121e30a2defb3",
   "outputs": [],
   "execution_count": 8
  }
 ],
 "metadata": {
  "kernelspec": {
   "display_name": "Python 3",
   "language": "python",
   "name": "python3"
  },
  "language_info": {
   "codemirror_mode": {
    "name": "ipython",
    "version": 2
   },
   "file_extension": ".py",
   "mimetype": "text/x-python",
   "name": "python",
   "nbconvert_exporter": "python",
   "pygments_lexer": "ipython2",
   "version": "2.7.6"
  }
 },
 "nbformat": 4,
 "nbformat_minor": 5
}
